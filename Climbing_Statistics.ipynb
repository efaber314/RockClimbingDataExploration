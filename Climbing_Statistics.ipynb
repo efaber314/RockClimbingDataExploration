{
  "nbformat": 4,
  "nbformat_minor": 0,
  "metadata": {
    "colab": {
      "name": "Climbing_Statistics.ipynb",
      "provenance": [],
      "collapsed_sections": [],
      "authorship_tag": "ABX9TyOKHA3V+MO0+dGk7O4YrosQ",
      "include_colab_link": true
    },
    "kernelspec": {
      "name": "python3",
      "display_name": "Python 3"
    }
  },
  "cells": [
    {
      "cell_type": "markdown",
      "metadata": {
        "id": "view-in-github",
        "colab_type": "text"
      },
      "source": [
        "<a href=\"https://colab.research.google.com/github/efaber314/RockClimbingDataExploration/blob/master/Climbing_Statistics.ipynb\" target=\"_parent\"><img src=\"https://colab.research.google.com/assets/colab-badge.svg\" alt=\"Open In Colab\"/></a>"
      ]
    },
    {
      "cell_type": "markdown",
      "metadata": {
        "id": "VYOYkDQ1pEVS",
        "colab_type": "text"
      },
      "source": [
        "The original data for this project came from the ifsc-climbing.org website and was posted on kaggle as a data set. (https://www.kaggle.com/brkurzawa/ifsc-sport-climbing-competition-results)\n",
        "\n",
        "The link to the data-scraper to do so can be found here: (https://github.com/brkurzawa/ifsc-webscraper)\n",
        "\n",
        "###Rock Climbing has exploded as an international sport in recent years.\n",
        "\n",
        "Rock climbing has gotten so big that it is making its premiere at the 2020 Olympics. There are 3 categories of Rock climbing. Bouldering, Lead, and Speed. Each one tests a climbers abilities different ways. Bouldering is a short climb with very difficult moves - the 200 meter dash of the climbing world. Lead climbing is more like a marathon. It is a long climb with lots of mental and physical endurance. Speed climbing is the newest category and is a timed climb of a standardized route. Competitors participate in all 3 in a climbing competition and earn scores for each one. Their score is tallied at the end for an overall Ranking.\n",
        "\n",
        "###In this dataset, there are 3 competitions:\n",
        " - The 2019 Youth World Competition. Held in Arco, Italy.\n",
        " - The 2019 Pan-American Competition. Held in Ibarra, Ecuador.\n",
        " - The 2019 Climbing World competition. Held in Innsbruck, Austria.\n",
        "\n",
        "From looking at some of the data from these competitions, we can ask things like, which country has the best climbers? Do qualifing scores correlate with final scores? Who is competing the most? What country has the best climbers?"
      ]
    },
    {
      "cell_type": "code",
      "metadata": {
        "id": "hXUBENAxpF6z",
        "colab_type": "code",
        "colab": {}
      },
      "source": [
        "import numpy as np\n",
        "import pandas as pd\n",
        "import matplotlib.pyplot as plt"
      ],
      "execution_count": 0,
      "outputs": []
    },
    {
      "cell_type": "code",
      "metadata": {
        "id": "lSt2-dODpLEV",
        "colab_type": "code",
        "colab": {}
      },
      "source": [
        "df = pd.read_csv('combined_results.csv')"
      ],
      "execution_count": 0,
      "outputs": []
    },
    {
      "cell_type": "code",
      "metadata": {
        "id": "bssO0rXAqNtB",
        "colab_type": "code",
        "outputId": "5a0f6e99-7624-4322-db4b-e6204a0c5d70",
        "colab": {
          "base_uri": "https://localhost:8080/",
          "height": 423
        }
      },
      "source": [
        "df.info()"
      ],
      "execution_count": 3,
      "outputs": [
        {
          "output_type": "stream",
          "text": [
            "<class 'pandas.core.frame.DataFrame'>\n",
            "RangeIndex: 879 entries, 0 to 878\n",
            "Data columns (total 15 columns):\n",
            " #   Column                 Non-Null Count  Dtype  \n",
            "---  ------                 --------------  -----  \n",
            " 0   Competition Title      879 non-null    object \n",
            " 1   Competition Date       879 non-null    object \n",
            " 2   FIRST                  879 non-null    object \n",
            " 3   LAST                   879 non-null    object \n",
            " 4   Nation                 879 non-null    object \n",
            " 5   Rank                   879 non-null    int64  \n",
            " 6   Qualification lead     879 non-null    int64  \n",
            " 7   Qualification speed    879 non-null    float64\n",
            " 8   Qualification boulder  879 non-null    object \n",
            " 9   Final lead             120 non-null    object \n",
            " 10  Final speed            120 non-null    object \n",
            " 11  Final boulder          120 non-null    object \n",
            " 12  Points                 879 non-null    float64\n",
            " 13  Final Points           120 non-null    float64\n",
            " 14  Category               879 non-null    object \n",
            "dtypes: float64(3), int64(2), object(10)\n",
            "memory usage: 103.1+ KB\n"
          ],
          "name": "stdout"
        }
      ]
    },
    {
      "cell_type": "markdown",
      "metadata": {
        "id": "DgC9_9QVRgim",
        "colab_type": "text"
      },
      "source": [
        "###The columns have the following descriptions:\n",
        "- Competition Title - Title of competition\n",
        "- Competition Date - Dates of competition\n",
        "- FIRST - First name of climber\n",
        "- LAST - Last name of climber\n",
        "- Nation - Nation climber hails from\n",
        "- StartNr -Corresponds to when the climber went out (Unsure)\n",
        "- Rank - Final ranking of climber for this competition\n",
        "- Qualification - Results from set of qualification problems\n",
        "- Qualification 1 - Results from set of first group qualification problems\n",
        "- Qualification 2 - Results from set of second group qualification problems\n",
        "- Semifinal - Results from set of semifinal problems\n",
        "- Final - Results from set of final problems\n",
        "- Category -Category of competition\n"
      ]
    },
    {
      "cell_type": "code",
      "metadata": {
        "id": "c9ccGpFPqPcC",
        "colab_type": "code",
        "outputId": "ba13429e-64d2-4309-d2bd-c9c7e09f0c44",
        "colab": {
          "base_uri": "https://localhost:8080/",
          "height": 389
        }
      },
      "source": [
        "df.head(3)"
      ],
      "execution_count": 39,
      "outputs": [
        {
          "output_type": "execute_result",
          "data": {
            "text/html": [
              "<div>\n",
              "<style scoped>\n",
              "    .dataframe tbody tr th:only-of-type {\n",
              "        vertical-align: middle;\n",
              "    }\n",
              "\n",
              "    .dataframe tbody tr th {\n",
              "        vertical-align: top;\n",
              "    }\n",
              "\n",
              "    .dataframe thead th {\n",
              "        text-align: right;\n",
              "    }\n",
              "</style>\n",
              "<table border=\"1\" class=\"dataframe\">\n",
              "  <thead>\n",
              "    <tr style=\"text-align: right;\">\n",
              "      <th></th>\n",
              "      <th>Competition Title</th>\n",
              "      <th>Competition Date</th>\n",
              "      <th>FIRST</th>\n",
              "      <th>LAST</th>\n",
              "      <th>Nation</th>\n",
              "      <th>Rank</th>\n",
              "      <th>Qualification lead</th>\n",
              "      <th>Qualification speed</th>\n",
              "      <th>Qualification boulder</th>\n",
              "      <th>Final lead</th>\n",
              "      <th>Final speed</th>\n",
              "      <th>Final boulder</th>\n",
              "      <th>Points</th>\n",
              "      <th>Final Points</th>\n",
              "      <th>Category</th>\n",
              "    </tr>\n",
              "  </thead>\n",
              "  <tbody>\n",
              "    <tr>\n",
              "      <th>0</th>\n",
              "      <td>IFSC Climbing World Championships Combined - H...</td>\n",
              "      <td>18  - 21 August 2019</td>\n",
              "      <td>Janja</td>\n",
              "      <td>GARNBRET</td>\n",
              "      <td>SLO</td>\n",
              "      <td>1</td>\n",
              "      <td>43</td>\n",
              "      <td>9.16570</td>\n",
              "      <td>4T4z552.</td>\n",
              "      <td>Top1.</td>\n",
              "      <td>13.3996.</td>\n",
              "      <td>1T2z122.</td>\n",
              "      <td>112.0</td>\n",
              "      <td>12.0</td>\n",
              "      <td>combined</td>\n",
              "    </tr>\n",
              "    <tr>\n",
              "      <th>1</th>\n",
              "      <td>IFSC Climbing World Championships Combined - H...</td>\n",
              "      <td>18  - 21 August 2019</td>\n",
              "      <td>Akiyo</td>\n",
              "      <td>NOGUCHI</td>\n",
              "      <td>JPN</td>\n",
              "      <td>2</td>\n",
              "      <td>38</td>\n",
              "      <td>9.39110</td>\n",
              "      <td>4T4z1284.</td>\n",
              "      <td>40+3.</td>\n",
              "      <td>10.0827.</td>\n",
              "      <td>2T2z331.</td>\n",
              "      <td>80.0</td>\n",
              "      <td>21.0</td>\n",
              "      <td>combined</td>\n",
              "    </tr>\n",
              "    <tr>\n",
              "      <th>2</th>\n",
              "      <td>IFSC Climbing World Championships Combined - H...</td>\n",
              "      <td>18  - 21 August 2019</td>\n",
              "      <td>Shauna</td>\n",
              "      <td>COXSEY</td>\n",
              "      <td>GBR</td>\n",
              "      <td>3</td>\n",
              "      <td>39</td>\n",
              "      <td>10.42214</td>\n",
              "      <td>4T4z441.</td>\n",
              "      <td>20 7.</td>\n",
              "      <td>9.2252.</td>\n",
              "      <td>1T2z233.</td>\n",
              "      <td>42.0</td>\n",
              "      <td>42.0</td>\n",
              "      <td>combined</td>\n",
              "    </tr>\n",
              "  </tbody>\n",
              "</table>\n",
              "</div>"
            ],
            "text/plain": [
              "                                   Competition Title  ...  Category\n",
              "0  IFSC Climbing World Championships Combined - H...  ...  combined\n",
              "1  IFSC Climbing World Championships Combined - H...  ...  combined\n",
              "2  IFSC Climbing World Championships Combined - H...  ...  combined\n",
              "\n",
              "[3 rows x 15 columns]"
            ]
          },
          "metadata": {
            "tags": []
          },
          "execution_count": 39
        }
      ]
    },
    {
      "cell_type": "code",
      "metadata": {
        "id": "8troPX1lqVDT",
        "colab_type": "code",
        "colab": {}
      },
      "source": [
        "#separate the competitions represented in the folder into their own data frames for comparisons\n",
        "YouthWorld = pd.DataFrame(columns = df.columns)\n",
        "PanAmerican = pd.DataFrame(columns = df.columns)\n",
        "ClimbingWorld = pd.DataFrame(columns = df.columns)"
      ],
      "execution_count": 0,
      "outputs": []
    },
    {
      "cell_type": "code",
      "metadata": {
        "id": "kNrEeZ4TsCOy",
        "colab_type": "code",
        "colab": {}
      },
      "source": [
        "for i in df.index:\n",
        "  if \"IFSC Youth World Championships -  Arco (ITA) 2019\" == df.loc[i][\"Competition Title\"].strip():\n",
        "    YouthWorld = YouthWorld.append(df.loc[[i]], ignore_index = True)\n",
        "  if \"IFSC PanAmerican Championship (L, S, B, C) - Guayaquil (ECU) 2018\" == df.loc[i][\"Competition Title\"].strip():\n",
        "    PanAmerican = PanAmerican.append(df.loc[[i]], ignore_index = True)\n",
        "  if \"IFSC Climbing World Championships Combined - Hachioji (JPN) 2019\" == df.loc[i][\"Competition Title\"].strip():\n",
        "    ClimbingWorld = ClimbingWorld.append(df.loc[[i]], ignore_index = True)"
      ],
      "execution_count": 0,
      "outputs": []
    },
    {
      "cell_type": "markdown",
      "metadata": {
        "id": "Q7EDsIggThma",
        "colab_type": "text"
      },
      "source": [
        "###First, lets look at the Youth World Competition."
      ]
    },
    {
      "cell_type": "code",
      "metadata": {
        "id": "mSduhs0CtiEv",
        "colab_type": "code",
        "outputId": "7df400f7-e921-4794-a943-64d50b7ec026",
        "colab": {
          "base_uri": "https://localhost:8080/",
          "height": 748
        }
      },
      "source": [
        "#Plot the number of competators from each country participating in this competition\n",
        "ax = YouthWorld[\"Nation\"].value_counts().plot(kind = 'barh', figsize = (12,12))\n",
        "ax.set_xlabel(\"Number of Competators\")\n",
        "ax.set_ylabel(\"Country\")\n",
        "ax.set_title(\"Number of Competators from Each Country\")"
      ],
      "execution_count": 6,
      "outputs": [
        {
          "output_type": "execute_result",
          "data": {
            "text/plain": [
              "Text(0.5, 1.0, 'Number of Competators from Each Country')"
            ]
          },
          "metadata": {
            "tags": []
          },
          "execution_count": 6
        },
        {
          "output_type": "display_data",
          "data": {
            "image/png": "[encoded data removed]",
            "text/plain": [
              "<Figure size 864x864 with 1 Axes>"
            ]
          },
          "metadata": {
            "tags": [],
            "needs_background": "light"
          }
        }
      ]
    },
    {
      "cell_type": "markdown",
      "metadata": {
        "id": "lIR25g4ib3h4",
        "colab_type": "text"
      },
      "source": [
        "It is unsurprising to see that traditionally rockier terrained countries have more athletes."
      ]
    },
    {
      "cell_type": "code",
      "metadata": {
        "id": "WgOsAxGzS3Jl",
        "colab_type": "code",
        "colab": {
          "base_uri": "https://localhost:8080/",
          "height": 143
        },
        "outputId": "357b1ec4-7676-48ed-b5e4-9e62a623f525"
      },
      "source": [
        "#Who were the winners from this competition and what country do they represent?\n",
        "WinnersYW = YouthWorld[[\"FIRST\",\"LAST\",\"Nation\",\"Rank\"]].head(3)\n",
        "WinnersYW"
      ],
      "execution_count": 37,
      "outputs": [
        {
          "output_type": "execute_result",
          "data": {
            "text/html": [
              "<div>\n",
              "<style scoped>\n",
              "    .dataframe tbody tr th:only-of-type {\n",
              "        vertical-align: middle;\n",
              "    }\n",
              "\n",
              "    .dataframe tbody tr th {\n",
              "        vertical-align: top;\n",
              "    }\n",
              "\n",
              "    .dataframe thead th {\n",
              "        text-align: right;\n",
              "    }\n",
              "</style>\n",
              "<table border=\"1\" class=\"dataframe\">\n",
              "  <thead>\n",
              "    <tr style=\"text-align: right;\">\n",
              "      <th></th>\n",
              "      <th>FIRST</th>\n",
              "      <th>LAST</th>\n",
              "      <th>Nation</th>\n",
              "      <th>Rank</th>\n",
              "    </tr>\n",
              "  </thead>\n",
              "  <tbody>\n",
              "    <tr>\n",
              "      <th>0</th>\n",
              "      <td>Natsumi</td>\n",
              "      <td>HIRANO</td>\n",
              "      <td>JPN</td>\n",
              "      <td>1</td>\n",
              "    </tr>\n",
              "    <tr>\n",
              "      <th>1</th>\n",
              "      <td>Julia</td>\n",
              "      <td>LOTZ</td>\n",
              "      <td>AUT</td>\n",
              "      <td>2</td>\n",
              "    </tr>\n",
              "    <tr>\n",
              "      <th>2</th>\n",
              "      <td>Emily</td>\n",
              "      <td>PHILLIPS</td>\n",
              "      <td>GBR</td>\n",
              "      <td>3</td>\n",
              "    </tr>\n",
              "  </tbody>\n",
              "</table>\n",
              "</div>"
            ],
            "text/plain": [
              "     FIRST      LAST Nation Rank\n",
              "0  Natsumi    HIRANO    JPN    1\n",
              "1    Julia      LOTZ    AUT    2\n",
              "2    Emily  PHILLIPS    GBR    3"
            ]
          },
          "metadata": {
            "tags": []
          },
          "execution_count": 37
        }
      ]
    },
    {
      "cell_type": "markdown",
      "metadata": {
        "id": "kYR2jHF4cEcn",
        "colab_type": "text"
      },
      "source": [
        "Even though Switzerland had the most athletes, they did not place. "
      ]
    },
    {
      "cell_type": "code",
      "metadata": {
        "id": "8OMveyM6SVjw",
        "colab_type": "code",
        "colab": {
          "base_uri": "https://localhost:8080/",
          "height": 1000
        },
        "outputId": "1c88ec74-fbf4-4392-b3db-ccf4d1add062"
      },
      "source": [
        "#What climber is the best from each country represented at this competition?\n",
        "TopInGroups1 = YouthWorld.sort_values(['Nation', 'Rank'], ascending = True).groupby('Nation').head(1)\n",
        "TopInGroups1[['Nation', 'LAST', \"FIRST\", 'Rank']]"
      ],
      "execution_count": 8,
      "outputs": [
        {
          "output_type": "execute_result",
          "data": {
            "text/html": [
              "<div>\n",
              "<style scoped>\n",
              "    .dataframe tbody tr th:only-of-type {\n",
              "        vertical-align: middle;\n",
              "    }\n",
              "\n",
              "    .dataframe tbody tr th {\n",
              "        vertical-align: top;\n",
              "    }\n",
              "\n",
              "    .dataframe thead th {\n",
              "        text-align: right;\n",
              "    }\n",
              "</style>\n",
              "<table border=\"1\" class=\"dataframe\">\n",
              "  <thead>\n",
              "    <tr style=\"text-align: right;\">\n",
              "      <th></th>\n",
              "      <th>Nation</th>\n",
              "      <th>LAST</th>\n",
              "      <th>FIRST</th>\n",
              "      <th>Rank</th>\n",
              "    </tr>\n",
              "  </thead>\n",
              "  <tbody>\n",
              "    <tr>\n",
              "      <th>39</th>\n",
              "      <td>AUS</td>\n",
              "      <td>SCARTH-JOHNSON</td>\n",
              "      <td>Angie</td>\n",
              "      <td>5</td>\n",
              "    </tr>\n",
              "    <tr>\n",
              "      <th>1</th>\n",
              "      <td>AUT</td>\n",
              "      <td>LOTZ</td>\n",
              "      <td>Julia</td>\n",
              "      <td>2</td>\n",
              "    </tr>\n",
              "    <tr>\n",
              "      <th>6</th>\n",
              "      <td>BEL</td>\n",
              "      <td>WATILLON</td>\n",
              "      <td>Lucie</td>\n",
              "      <td>7</td>\n",
              "    </tr>\n",
              "    <tr>\n",
              "      <th>122</th>\n",
              "      <td>BRA</td>\n",
              "      <td>BELLOTTO</td>\n",
              "      <td>Mateus</td>\n",
              "      <td>27</td>\n",
              "    </tr>\n",
              "    <tr>\n",
              "      <th>36</th>\n",
              "      <td>BUL</td>\n",
              "      <td>TOTKOVA</td>\n",
              "      <td>Aleksandra</td>\n",
              "      <td>2</td>\n",
              "    </tr>\n",
              "    <tr>\n",
              "      <th>136</th>\n",
              "      <td>CAN</td>\n",
              "      <td>LE</td>\n",
              "      <td>Dylan</td>\n",
              "      <td>7</td>\n",
              "    </tr>\n",
              "    <tr>\n",
              "      <th>76</th>\n",
              "      <td>CHI</td>\n",
              "      <td>CONTRERAS</td>\n",
              "      <td>Alejandra</td>\n",
              "      <td>4</td>\n",
              "    </tr>\n",
              "    <tr>\n",
              "      <th>13</th>\n",
              "      <td>CRO</td>\n",
              "      <td>PICCINI</td>\n",
              "      <td>Vana</td>\n",
              "      <td>14</td>\n",
              "    </tr>\n",
              "    <tr>\n",
              "      <th>43</th>\n",
              "      <td>CZE</td>\n",
              "      <td>JANOŠOVÁ</td>\n",
              "      <td>Markéta</td>\n",
              "      <td>9</td>\n",
              "    </tr>\n",
              "    <tr>\n",
              "      <th>60</th>\n",
              "      <td>DEN</td>\n",
              "      <td>HJORTH ALSTRUP</td>\n",
              "      <td>Anine</td>\n",
              "      <td>26</td>\n",
              "    </tr>\n",
              "    <tr>\n",
              "      <th>176</th>\n",
              "      <td>ECU</td>\n",
              "      <td>RIVADENEIRA</td>\n",
              "      <td>Nickolaie</td>\n",
              "      <td>11</td>\n",
              "    </tr>\n",
              "    <tr>\n",
              "      <th>98</th>\n",
              "      <td>ESP</td>\n",
              "      <td>GINÉS LÓPEZ</td>\n",
              "      <td>Alberto</td>\n",
              "      <td>3</td>\n",
              "    </tr>\n",
              "    <tr>\n",
              "      <th>2</th>\n",
              "      <td>GBR</td>\n",
              "      <td>PHILLIPS</td>\n",
              "      <td>Emily</td>\n",
              "      <td>3</td>\n",
              "    </tr>\n",
              "    <tr>\n",
              "      <th>75</th>\n",
              "      <td>GER</td>\n",
              "      <td>DÖRFFEL</td>\n",
              "      <td>Lucia</td>\n",
              "      <td>3</td>\n",
              "    </tr>\n",
              "    <tr>\n",
              "      <th>22</th>\n",
              "      <td>GRE</td>\n",
              "      <td>KALLIA</td>\n",
              "      <td>Evdoxia - Aikaterini</td>\n",
              "      <td>23</td>\n",
              "    </tr>\n",
              "    <tr>\n",
              "      <th>172</th>\n",
              "      <td>HKG</td>\n",
              "      <td>WONG</td>\n",
              "      <td>Cheuk-nam</td>\n",
              "      <td>7</td>\n",
              "    </tr>\n",
              "    <tr>\n",
              "      <th>142</th>\n",
              "      <td>HUN</td>\n",
              "      <td>RADICS</td>\n",
              "      <td>Attila Zsombor</td>\n",
              "      <td>13</td>\n",
              "    </tr>\n",
              "    <tr>\n",
              "      <th>141</th>\n",
              "      <td>IND</td>\n",
              "      <td>VARMA</td>\n",
              "      <td>Aman</td>\n",
              "      <td>12</td>\n",
              "    </tr>\n",
              "    <tr>\n",
              "      <th>25</th>\n",
              "      <td>IRL</td>\n",
              "      <td>CASEY</td>\n",
              "      <td>Robin</td>\n",
              "      <td>26</td>\n",
              "    </tr>\n",
              "    <tr>\n",
              "      <th>84</th>\n",
              "      <td>ISR</td>\n",
              "      <td>YOHAI</td>\n",
              "      <td>Naama</td>\n",
              "      <td>12</td>\n",
              "    </tr>\n",
              "    <tr>\n",
              "      <th>73</th>\n",
              "      <td>ITA</td>\n",
              "      <td>ROGORA</td>\n",
              "      <td>Laura</td>\n",
              "      <td>1</td>\n",
              "    </tr>\n",
              "    <tr>\n",
              "      <th>0</th>\n",
              "      <td>JPN</td>\n",
              "      <td>HIRANO</td>\n",
              "      <td>Natsumi</td>\n",
              "      <td>1</td>\n",
              "    </tr>\n",
              "    <tr>\n",
              "      <th>37</th>\n",
              "      <td>KOR</td>\n",
              "      <td>NOH</td>\n",
              "      <td>Heeju</td>\n",
              "      <td>3</td>\n",
              "    </tr>\n",
              "    <tr>\n",
              "      <th>140</th>\n",
              "      <td>LAT</td>\n",
              "      <td>GRUZITIS</td>\n",
              "      <td>Edvards</td>\n",
              "      <td>11</td>\n",
              "    </tr>\n",
              "    <tr>\n",
              "      <th>94</th>\n",
              "      <td>MEX</td>\n",
              "      <td>HIDALGO AMEZQUITA</td>\n",
              "      <td>María Fernanda</td>\n",
              "      <td>22</td>\n",
              "    </tr>\n",
              "    <tr>\n",
              "      <th>15</th>\n",
              "      <td>NOR</td>\n",
              "      <td>WOLLEBAEK</td>\n",
              "      <td>Emma Stöver</td>\n",
              "      <td>16</td>\n",
              "    </tr>\n",
              "    <tr>\n",
              "      <th>88</th>\n",
              "      <td>NZL</td>\n",
              "      <td>TETZLAFF</td>\n",
              "      <td>Sarah</td>\n",
              "      <td>16</td>\n",
              "    </tr>\n",
              "    <tr>\n",
              "      <th>105</th>\n",
              "      <td>POL</td>\n",
              "      <td>ZIETEK</td>\n",
              "      <td>Jakub</td>\n",
              "      <td>10</td>\n",
              "    </tr>\n",
              "    <tr>\n",
              "      <th>179</th>\n",
              "      <td>RSA</td>\n",
              "      <td>COSSER</td>\n",
              "      <td>Christopher</td>\n",
              "      <td>14</td>\n",
              "    </tr>\n",
              "    <tr>\n",
              "      <th>175</th>\n",
              "      <td>SGP</td>\n",
              "      <td>CHAN CHONG KIAT</td>\n",
              "      <td>Mark</td>\n",
              "      <td>10</td>\n",
              "    </tr>\n",
              "    <tr>\n",
              "      <th>35</th>\n",
              "      <td>SLO</td>\n",
              "      <td>COPAR</td>\n",
              "      <td>Sara</td>\n",
              "      <td>1</td>\n",
              "    </tr>\n",
              "    <tr>\n",
              "      <th>169</th>\n",
              "      <td>SUI</td>\n",
              "      <td>CLÉMENCE</td>\n",
              "      <td>Julien</td>\n",
              "      <td>4</td>\n",
              "    </tr>\n",
              "    <tr>\n",
              "      <th>4</th>\n",
              "      <td>SVK</td>\n",
              "      <td>MICHALKOVA</td>\n",
              "      <td>Vanda</td>\n",
              "      <td>5</td>\n",
              "    </tr>\n",
              "    <tr>\n",
              "      <th>90</th>\n",
              "      <td>SWE</td>\n",
              "      <td>DUNCAN</td>\n",
              "      <td>Freja</td>\n",
              "      <td>18</td>\n",
              "    </tr>\n",
              "    <tr>\n",
              "      <th>132</th>\n",
              "      <td>THA</td>\n",
              "      <td>TOMAS</td>\n",
              "      <td>Nichol</td>\n",
              "      <td>3</td>\n",
              "    </tr>\n",
              "    <tr>\n",
              "      <th>87</th>\n",
              "      <td>UKR</td>\n",
              "      <td>LAVRYKOVA</td>\n",
              "      <td>Yelyzaveta</td>\n",
              "      <td>15</td>\n",
              "    </tr>\n",
              "    <tr>\n",
              "      <th>74</th>\n",
              "      <td>USA</td>\n",
              "      <td>GROSSMAN</td>\n",
              "      <td>Natalia</td>\n",
              "      <td>2</td>\n",
              "    </tr>\n",
              "    <tr>\n",
              "      <th>129</th>\n",
              "      <td>UZB</td>\n",
              "      <td>ROGALEV</td>\n",
              "      <td>Mark</td>\n",
              "      <td>34</td>\n",
              "    </tr>\n",
              "  </tbody>\n",
              "</table>\n",
              "</div>"
            ],
            "text/plain": [
              "    Nation               LAST                 FIRST Rank\n",
              "39     AUS     SCARTH-JOHNSON                 Angie    5\n",
              "1      AUT               LOTZ                 Julia    2\n",
              "6      BEL           WATILLON                 Lucie    7\n",
              "122    BRA           BELLOTTO                Mateus   27\n",
              "36     BUL            TOTKOVA            Aleksandra    2\n",
              "136    CAN                 LE                 Dylan    7\n",
              "76     CHI          CONTRERAS             Alejandra    4\n",
              "13     CRO            PICCINI                  Vana   14\n",
              "43     CZE           JANOŠOVÁ               Markéta    9\n",
              "60     DEN     HJORTH ALSTRUP                 Anine   26\n",
              "176    ECU        RIVADENEIRA             Nickolaie   11\n",
              "98     ESP        GINÉS LÓPEZ               Alberto    3\n",
              "2      GBR           PHILLIPS                 Emily    3\n",
              "75     GER            DÖRFFEL                 Lucia    3\n",
              "22     GRE             KALLIA  Evdoxia - Aikaterini   23\n",
              "172    HKG               WONG             Cheuk-nam    7\n",
              "142    HUN             RADICS        Attila Zsombor   13\n",
              "141    IND              VARMA                  Aman   12\n",
              "25     IRL              CASEY                 Robin   26\n",
              "84     ISR              YOHAI                 Naama   12\n",
              "73     ITA             ROGORA                 Laura    1\n",
              "0      JPN             HIRANO               Natsumi    1\n",
              "37     KOR                NOH                 Heeju    3\n",
              "140    LAT           GRUZITIS               Edvards   11\n",
              "94     MEX  HIDALGO AMEZQUITA        María Fernanda   22\n",
              "15     NOR          WOLLEBAEK           Emma Stöver   16\n",
              "88     NZL           TETZLAFF                 Sarah   16\n",
              "105    POL             ZIETEK                 Jakub   10\n",
              "179    RSA             COSSER           Christopher   14\n",
              "175    SGP    CHAN CHONG KIAT                  Mark   10\n",
              "35     SLO              COPAR                  Sara    1\n",
              "169    SUI           CLÉMENCE                Julien    4\n",
              "4      SVK         MICHALKOVA                 Vanda    5\n",
              "90     SWE             DUNCAN                 Freja   18\n",
              "132    THA              TOMAS                Nichol    3\n",
              "87     UKR          LAVRYKOVA            Yelyzaveta   15\n",
              "74     USA           GROSSMAN               Natalia    2\n",
              "129    UZB            ROGALEV                  Mark   34"
            ]
          },
          "metadata": {
            "tags": []
          },
          "execution_count": 8
        }
      ]
    },
    {
      "cell_type": "markdown",
      "metadata": {
        "id": "dmaTb_DjcNZx",
        "colab_type": "text"
      },
      "source": [
        "Here we can see who the best climber is from each country and how well they do overall in the competition"
      ]
    },
    {
      "cell_type": "code",
      "metadata": {
        "id": "461-2JQbSd0J",
        "colab_type": "code",
        "colab": {
          "base_uri": "https://localhost:8080/",
          "height": 700
        },
        "outputId": "154389f0-c4c2-44e1-82ca-67e0f7c43bea"
      },
      "source": [
        "#Some data cleaning - the scores are stored as strings in the csv and I need floats to plot\n",
        "YouthWorld[\"Qualification lead\"] = [float(i) for i in YouthWorld[\"Qualification lead\"]]\n",
        "YouthWorld[\"Qualification speed\"] = [float(i) for i in YouthWorld[\"Qualification speed\"]]\n",
        "YouthWorld[\"Qualification boulder\"] = [float(i) for i in YouthWorld[\"Qualification boulder\"]]\n",
        "\n",
        "plt.figure(figsize = (12,12))\n",
        "plt.scatter(YouthWorld[\"Rank\"], YouthWorld[\"Qualification boulder\"], c = 'r', label = \"Qualification Boulder\")\n",
        "plt.scatter(YouthWorld[\"Rank\"], YouthWorld[\"Qualification lead\"], c = 'b', label = \"Qualification Lead\")\n",
        "plt.scatter(YouthWorld[\"Rank\"], YouthWorld[\"Qualification speed\"], c = 'g', label = \"Qualification Speed\")\n",
        "\n",
        "plt.legend()\n",
        "plt.show()\n"
      ],
      "execution_count": 31,
      "outputs": [
        {
          "output_type": "display_data",
          "data": {
            "image/png": "[encoded data removed]",
            "text/plain": [
              "<Figure size 864x864 with 1 Axes>"
            ]
          },
          "metadata": {
            "tags": [],
            "needs_background": "light"
          }
        }
      ]
    },
    {
      "cell_type": "markdown",
      "metadata": {
        "id": "lWXL6riMcayJ",
        "colab_type": "text"
      },
      "source": [
        "There is a positive correlation between qualifing scores and final rank scores for this competition in all 3 categories"
      ]
    },
    {
      "cell_type": "markdown",
      "metadata": {
        "id": "HiP8J62aTa2S",
        "colab_type": "text"
      },
      "source": [
        "###Now, we will take a look at the Pan-American Competition"
      ]
    },
    {
      "cell_type": "code",
      "metadata": {
        "id": "n6pd95S4yytO",
        "colab_type": "code",
        "outputId": "536578bd-35a1-4a7d-d310-127325b236ad",
        "colab": {
          "base_uri": "https://localhost:8080/",
          "height": 748
        }
      },
      "source": [
        "ax1 = PanAmerican['Nation'].value_counts().plot(kind = 'barh', figsize = (12,12))\n",
        "ax1.set_xlabel(\"Number of Competators\")\n",
        "ax1.set_ylabel(\"Country\")\n",
        "ax1.set_title(\"Number of Competators from Each Country\")"
      ],
      "execution_count": 107,
      "outputs": [
        {
          "output_type": "execute_result",
          "data": {
            "text/plain": [
              "Text(0.5, 1.0, 'Number of Competators from Each Country')"
            ]
          },
          "metadata": {
            "tags": []
          },
          "execution_count": 107
        },
        {
          "output_type": "display_data",
          "data": {
            "image/png": "[encoded data removed]",
            "text/plain": [
              "<Figure size 864x864 with 1 Axes>"
            ]
          },
          "metadata": {
            "tags": [],
            "needs_background": "light"
          }
        }
      ]
    },
    {
      "cell_type": "code",
      "metadata": {
        "id": "vIa9gj6MS9L6",
        "colab_type": "code",
        "colab": {
          "base_uri": "https://localhost:8080/",
          "height": 143
        },
        "outputId": "beb805b8-01b3-49d6-91d9-f65ee3beac75"
      },
      "source": [
        "#Who are the winners of the competition?\n",
        "WinnersPA = PanAmerican[[\"FIRST\",\"LAST\",\"Nation\",\"Rank\"]].head(3)\n",
        "WinnersPA"
      ],
      "execution_count": 36,
      "outputs": [
        {
          "output_type": "execute_result",
          "data": {
            "text/html": [
              "<div>\n",
              "<style scoped>\n",
              "    .dataframe tbody tr th:only-of-type {\n",
              "        vertical-align: middle;\n",
              "    }\n",
              "\n",
              "    .dataframe tbody tr th {\n",
              "        vertical-align: top;\n",
              "    }\n",
              "\n",
              "    .dataframe thead th {\n",
              "        text-align: right;\n",
              "    }\n",
              "</style>\n",
              "<table border=\"1\" class=\"dataframe\">\n",
              "  <thead>\n",
              "    <tr style=\"text-align: right;\">\n",
              "      <th></th>\n",
              "      <th>FIRST</th>\n",
              "      <th>LAST</th>\n",
              "      <th>Nation</th>\n",
              "      <th>Rank</th>\n",
              "    </tr>\n",
              "  </thead>\n",
              "  <tbody>\n",
              "    <tr>\n",
              "      <th>0</th>\n",
              "      <td>Kyra</td>\n",
              "      <td>CONDIE</td>\n",
              "      <td>USA</td>\n",
              "      <td>1</td>\n",
              "    </tr>\n",
              "    <tr>\n",
              "      <th>1</th>\n",
              "      <td>Valentina</td>\n",
              "      <td>AGUADO</td>\n",
              "      <td>ARG</td>\n",
              "      <td>2</td>\n",
              "    </tr>\n",
              "    <tr>\n",
              "      <th>2</th>\n",
              "      <td>Andrea</td>\n",
              "      <td>ROJAS</td>\n",
              "      <td>ECU</td>\n",
              "      <td>3</td>\n",
              "    </tr>\n",
              "  </tbody>\n",
              "</table>\n",
              "</div>"
            ],
            "text/plain": [
              "       FIRST    LAST Nation Rank\n",
              "0       Kyra  CONDIE    USA    1\n",
              "1  Valentina  AGUADO    ARG    2\n",
              "2     Andrea   ROJAS    ECU    3"
            ]
          },
          "metadata": {
            "tags": []
          },
          "execution_count": 36
        }
      ]
    },
    {
      "cell_type": "markdown",
      "metadata": {
        "id": "u0uW6EYvcrti",
        "colab_type": "text"
      },
      "source": [
        "Again, the country with the most athletes does not win the competition.\n"
      ]
    },
    {
      "cell_type": "code",
      "metadata": {
        "id": "-GNVqDjeSovV",
        "colab_type": "code",
        "colab": {
          "base_uri": "https://localhost:8080/",
          "height": 300
        },
        "outputId": "7938b6b5-a477-4eda-bcbf-0ff16f20fe1e"
      },
      "source": [
        "#Who was the top competitor in each country?\n",
        "TopInGroups = PanAmerican.sort_values(['Nation', 'Rank'], ascending = True).groupby('Nation').head(1)\n",
        "TopInGroups[['Nation', 'LAST', \"FIRST\", 'Rank']]"
      ],
      "execution_count": 33,
      "outputs": [
        {
          "output_type": "execute_result",
          "data": {
            "text/html": [
              "<div>\n",
              "<style scoped>\n",
              "    .dataframe tbody tr th:only-of-type {\n",
              "        vertical-align: middle;\n",
              "    }\n",
              "\n",
              "    .dataframe tbody tr th {\n",
              "        vertical-align: top;\n",
              "    }\n",
              "\n",
              "    .dataframe thead th {\n",
              "        text-align: right;\n",
              "    }\n",
              "</style>\n",
              "<table border=\"1\" class=\"dataframe\">\n",
              "  <thead>\n",
              "    <tr style=\"text-align: right;\">\n",
              "      <th></th>\n",
              "      <th>Nation</th>\n",
              "      <th>LAST</th>\n",
              "      <th>FIRST</th>\n",
              "      <th>Rank</th>\n",
              "    </tr>\n",
              "  </thead>\n",
              "  <tbody>\n",
              "    <tr>\n",
              "      <th>1</th>\n",
              "      <td>ARG</td>\n",
              "      <td>AGUADO</td>\n",
              "      <td>Valentina</td>\n",
              "      <td>2</td>\n",
              "    </tr>\n",
              "    <tr>\n",
              "      <th>17</th>\n",
              "      <td>BRA</td>\n",
              "      <td>GROSSO</td>\n",
              "      <td>Cesar</td>\n",
              "      <td>5</td>\n",
              "    </tr>\n",
              "    <tr>\n",
              "      <th>3</th>\n",
              "      <td>CHI</td>\n",
              "      <td>MELLADO QUINTEROS</td>\n",
              "      <td>Ignacia</td>\n",
              "      <td>4</td>\n",
              "    </tr>\n",
              "    <tr>\n",
              "      <th>13</th>\n",
              "      <td>ECU</td>\n",
              "      <td>VALENCIA</td>\n",
              "      <td>Danny</td>\n",
              "      <td>1</td>\n",
              "    </tr>\n",
              "    <tr>\n",
              "      <th>36</th>\n",
              "      <td>GUA</td>\n",
              "      <td>MORALES</td>\n",
              "      <td>Fernando</td>\n",
              "      <td>24</td>\n",
              "    </tr>\n",
              "    <tr>\n",
              "      <th>12</th>\n",
              "      <td>PER</td>\n",
              "      <td>VENET GALLEGOS</td>\n",
              "      <td>Noelia</td>\n",
              "      <td>13</td>\n",
              "    </tr>\n",
              "    <tr>\n",
              "      <th>0</th>\n",
              "      <td>USA</td>\n",
              "      <td>CONDIE</td>\n",
              "      <td>Kyra</td>\n",
              "      <td>1</td>\n",
              "    </tr>\n",
              "    <tr>\n",
              "      <th>4</th>\n",
              "      <td>VEN</td>\n",
              "      <td>ROMERO</td>\n",
              "      <td>Leslie</td>\n",
              "      <td>5</td>\n",
              "    </tr>\n",
              "  </tbody>\n",
              "</table>\n",
              "</div>"
            ],
            "text/plain": [
              "   Nation               LAST      FIRST Rank\n",
              "1     ARG             AGUADO  Valentina    2\n",
              "17    BRA             GROSSO      Cesar    5\n",
              "3     CHI  MELLADO QUINTEROS    Ignacia    4\n",
              "13    ECU           VALENCIA      Danny    1\n",
              "36    GUA            MORALES   Fernando   24\n",
              "12    PER     VENET GALLEGOS     Noelia   13\n",
              "0     USA             CONDIE       Kyra    1\n",
              "4     VEN             ROMERO     Leslie    5"
            ]
          },
          "metadata": {
            "tags": []
          },
          "execution_count": 33
        }
      ]
    },
    {
      "cell_type": "markdown",
      "metadata": {
        "id": "KW2qnO4tcxrT",
        "colab_type": "text"
      },
      "source": [
        "This shows the top competitor from each country and how well they did in the overall competition."
      ]
    },
    {
      "cell_type": "code",
      "metadata": {
        "id": "d8feJZRTSuzH",
        "colab_type": "code",
        "colab": {
          "base_uri": "https://localhost:8080/",
          "height": 700
        },
        "outputId": "f2c3584a-e10a-496f-b27d-390a29ef7eb6"
      },
      "source": [
        "PanAmerican[\"Qualification lead\"] = [float(i) for i in PanAmerican[\"Qualification lead\"]]\n",
        "PanAmerican[\"Qualification speed\"] = [float(i) for i in PanAmerican[\"Qualification speed\"]]\n",
        "PanAmerican[\"Qualification boulder\"] = [float(i) for i in PanAmerican[\"Qualification boulder\"]]\n",
        "\n",
        "plt.figure(figsize = (12,12))\n",
        "plt.scatter(PanAmerican[\"Rank\"], PanAmerican[\"Qualification boulder\"], c = 'r', label = \"Qualification Boulder\")\n",
        "plt.scatter(PanAmerican[\"Rank\"], PanAmerican[\"Qualification lead\"], c = 'b', label = \"Qualification Lead\")\n",
        "plt.scatter(PanAmerican[\"Rank\"], PanAmerican[\"Qualification speed\"], c = 'g', label = \"Qualification Speed\")\n",
        "\n",
        "plt.legend()\n",
        "plt.show()\n",
        "\n"
      ],
      "execution_count": 34,
      "outputs": [
        {
          "output_type": "display_data",
          "data": {
            "image/png": "[encoded data removed]",
            "text/plain": [
              "<Figure size 864x864 with 1 Axes>"
            ]
          },
          "metadata": {
            "tags": [],
            "needs_background": "light"
          }
        }
      ]
    },
    {
      "cell_type": "markdown",
      "metadata": {
        "id": "Mfp075kic5N4",
        "colab_type": "text"
      },
      "source": [
        "Again, there is a positive correlation between the quallifier scores and the final scores of this competition."
      ]
    },
    {
      "cell_type": "markdown",
      "metadata": {
        "id": "t6aaJOEgX75J",
        "colab_type": "text"
      },
      "source": [
        "###Now, lets take a look at the Climbing World Championships"
      ]
    },
    {
      "cell_type": "code",
      "metadata": {
        "id": "dL-Zt5gNAsIf",
        "colab_type": "code",
        "outputId": "b4e00c03-37eb-4d8a-f1b0-908ad566a228",
        "colab": {
          "base_uri": "https://localhost:8080/",
          "height": 748
        }
      },
      "source": [
        "ax2 = ClimbingWorld['Nation'].value_counts().plot(kind = 'barh', figsize = (12,12))\n",
        "ax2.set_xlabel(\"Number of Competators\")\n",
        "ax2.set_ylabel(\"Country\")\n",
        "ax2.set_title(\"Number of Competators from Each Country\")"
      ],
      "execution_count": 108,
      "outputs": [
        {
          "output_type": "execute_result",
          "data": {
            "text/plain": [
              "Text(0.5, 1.0, 'Number of Competators from Each Country')"
            ]
          },
          "metadata": {
            "tags": []
          },
          "execution_count": 108
        },
        {
          "output_type": "display_data",
          "data": {
            "image/png": "[encoded data removed]",
            "text/plain": [
              "<Figure size 864x864 with 1 Axes>"
            ]
          },
          "metadata": {
            "tags": [],
            "needs_background": "light"
          }
        }
      ]
    },
    {
      "cell_type": "code",
      "metadata": {
        "id": "egG4xmF5TA1i",
        "colab_type": "code",
        "colab": {
          "base_uri": "https://localhost:8080/",
          "height": 143
        },
        "outputId": "442fb97d-d1df-410a-f841-3d7e576773e4"
      },
      "source": [
        "#Who won the competition?\n",
        "WinnersCW = ClimbingWorld[[\"FIRST\",\"LAST\",\"Nation\",\"Rank\"]].head(3)\n",
        "WinnersCW"
      ],
      "execution_count": 35,
      "outputs": [
        {
          "output_type": "execute_result",
          "data": {
            "text/html": [
              "<div>\n",
              "<style scoped>\n",
              "    .dataframe tbody tr th:only-of-type {\n",
              "        vertical-align: middle;\n",
              "    }\n",
              "\n",
              "    .dataframe tbody tr th {\n",
              "        vertical-align: top;\n",
              "    }\n",
              "\n",
              "    .dataframe thead th {\n",
              "        text-align: right;\n",
              "    }\n",
              "</style>\n",
              "<table border=\"1\" class=\"dataframe\">\n",
              "  <thead>\n",
              "    <tr style=\"text-align: right;\">\n",
              "      <th></th>\n",
              "      <th>FIRST</th>\n",
              "      <th>LAST</th>\n",
              "      <th>Nation</th>\n",
              "      <th>Rank</th>\n",
              "    </tr>\n",
              "  </thead>\n",
              "  <tbody>\n",
              "    <tr>\n",
              "      <th>0</th>\n",
              "      <td>Janja</td>\n",
              "      <td>GARNBRET</td>\n",
              "      <td>SLO</td>\n",
              "      <td>1</td>\n",
              "    </tr>\n",
              "    <tr>\n",
              "      <th>1</th>\n",
              "      <td>Akiyo</td>\n",
              "      <td>NOGUCHI</td>\n",
              "      <td>JPN</td>\n",
              "      <td>2</td>\n",
              "    </tr>\n",
              "    <tr>\n",
              "      <th>2</th>\n",
              "      <td>Shauna</td>\n",
              "      <td>COXSEY</td>\n",
              "      <td>GBR</td>\n",
              "      <td>3</td>\n",
              "    </tr>\n",
              "  </tbody>\n",
              "</table>\n",
              "</div>"
            ],
            "text/plain": [
              "    FIRST      LAST Nation Rank\n",
              "0   Janja  GARNBRET    SLO    1\n",
              "1   Akiyo   NOGUCHI    JPN    2\n",
              "2  Shauna    COXSEY    GBR    3"
            ]
          },
          "metadata": {
            "tags": []
          },
          "execution_count": 35
        }
      ]
    },
    {
      "cell_type": "markdown",
      "metadata": {
        "id": "wEuwK2g2dGZM",
        "colab_type": "text"
      },
      "source": [
        "This time, the two countries with the most athletes did take the top two places. (albiet, out of order)"
      ]
    },
    {
      "cell_type": "code",
      "metadata": {
        "id": "4Lna7fFWLo27",
        "colab_type": "code",
        "outputId": "6f0d9ff4-bf35-4ddf-a1ae-1d9338eddaf3",
        "colab": {
          "base_uri": "https://localhost:8080/",
          "height": 551
        }
      },
      "source": [
        "#Who was the top competitor in from each country?\n",
        "TopInGroups2 = ClimbingWorld.sort_values(['Nation', 'Rank'], ascending = True).groupby('Nation').head(1)\n",
        "TopInGroups2[['Nation', 'LAST',\"FIRST\", 'Rank']]"
      ],
      "execution_count": 38,
      "outputs": [
        {
          "output_type": "execute_result",
          "data": {
            "text/html": [
              "<div>\n",
              "<style scoped>\n",
              "    .dataframe tbody tr th:only-of-type {\n",
              "        vertical-align: middle;\n",
              "    }\n",
              "\n",
              "    .dataframe tbody tr th {\n",
              "        vertical-align: top;\n",
              "    }\n",
              "\n",
              "    .dataframe thead th {\n",
              "        text-align: right;\n",
              "    }\n",
              "</style>\n",
              "<table border=\"1\" class=\"dataframe\">\n",
              "  <thead>\n",
              "    <tr style=\"text-align: right;\">\n",
              "      <th></th>\n",
              "      <th>Nation</th>\n",
              "      <th>LAST</th>\n",
              "      <th>FIRST</th>\n",
              "      <th>Rank</th>\n",
              "    </tr>\n",
              "  </thead>\n",
              "  <tbody>\n",
              "    <tr>\n",
              "      <th>21</th>\n",
              "      <td>AUT</td>\n",
              "      <td>SCHUBERT</td>\n",
              "      <td>Jakob</td>\n",
              "      <td>2</td>\n",
              "    </tr>\n",
              "    <tr>\n",
              "      <th>29</th>\n",
              "      <td>CAN</td>\n",
              "      <td>MCCOLL</td>\n",
              "      <td>Sean</td>\n",
              "      <td>10</td>\n",
              "    </tr>\n",
              "    <tr>\n",
              "      <th>14</th>\n",
              "      <td>CHN</td>\n",
              "      <td>NIU</td>\n",
              "      <td>Di</td>\n",
              "      <td>15</td>\n",
              "    </tr>\n",
              "    <tr>\n",
              "      <th>37</th>\n",
              "      <td>CZE</td>\n",
              "      <td>ONDRA</td>\n",
              "      <td>Adam</td>\n",
              "      <td>18</td>\n",
              "    </tr>\n",
              "    <tr>\n",
              "      <th>26</th>\n",
              "      <td>FRA</td>\n",
              "      <td>MAWEM</td>\n",
              "      <td>Mickael</td>\n",
              "      <td>7</td>\n",
              "    </tr>\n",
              "    <tr>\n",
              "      <th>2</th>\n",
              "      <td>GBR</td>\n",
              "      <td>COXSEY</td>\n",
              "      <td>Shauna</td>\n",
              "      <td>3</td>\n",
              "    </tr>\n",
              "    <tr>\n",
              "      <th>27</th>\n",
              "      <td>GER</td>\n",
              "      <td>MEGOS</td>\n",
              "      <td>Alexander</td>\n",
              "      <td>8</td>\n",
              "    </tr>\n",
              "    <tr>\n",
              "      <th>28</th>\n",
              "      <td>ITA</td>\n",
              "      <td>FOSSALI</td>\n",
              "      <td>Ludovico</td>\n",
              "      <td>9</td>\n",
              "    </tr>\n",
              "    <tr>\n",
              "      <th>20</th>\n",
              "      <td>JPN</td>\n",
              "      <td>NARASAKI</td>\n",
              "      <td>Tomoa</td>\n",
              "      <td>1</td>\n",
              "    </tr>\n",
              "    <tr>\n",
              "      <th>22</th>\n",
              "      <td>KAZ</td>\n",
              "      <td>KHAIBULLIN</td>\n",
              "      <td>Rishat</td>\n",
              "      <td>3</td>\n",
              "    </tr>\n",
              "    <tr>\n",
              "      <th>12</th>\n",
              "      <td>KOR</td>\n",
              "      <td>SEO</td>\n",
              "      <td>Chaehyun</td>\n",
              "      <td>13</td>\n",
              "    </tr>\n",
              "    <tr>\n",
              "      <th>3</th>\n",
              "      <td>POL</td>\n",
              "      <td>MIROSLAW</td>\n",
              "      <td>Aleksandra</td>\n",
              "      <td>4</td>\n",
              "    </tr>\n",
              "    <tr>\n",
              "      <th>0</th>\n",
              "      <td>SLO</td>\n",
              "      <td>GARNBRET</td>\n",
              "      <td>Janja</td>\n",
              "      <td>1</td>\n",
              "    </tr>\n",
              "    <tr>\n",
              "      <th>7</th>\n",
              "      <td>SUI</td>\n",
              "      <td>KLINGLER</td>\n",
              "      <td>Petra</td>\n",
              "      <td>8</td>\n",
              "    </tr>\n",
              "    <tr>\n",
              "      <th>19</th>\n",
              "      <td>UKR</td>\n",
              "      <td>KAZBEKOVA</td>\n",
              "      <td>Ievgeniia</td>\n",
              "      <td>20</td>\n",
              "    </tr>\n",
              "    <tr>\n",
              "      <th>8</th>\n",
              "      <td>USA</td>\n",
              "      <td>RABOUTOU</td>\n",
              "      <td>Brooke</td>\n",
              "      <td>9</td>\n",
              "    </tr>\n",
              "  </tbody>\n",
              "</table>\n",
              "</div>"
            ],
            "text/plain": [
              "   Nation        LAST       FIRST Rank\n",
              "21    AUT    SCHUBERT       Jakob    2\n",
              "29    CAN      MCCOLL        Sean   10\n",
              "14    CHN         NIU          Di   15\n",
              "37    CZE       ONDRA        Adam   18\n",
              "26    FRA       MAWEM     Mickael    7\n",
              "2     GBR      COXSEY      Shauna    3\n",
              "27    GER       MEGOS   Alexander    8\n",
              "28    ITA     FOSSALI    Ludovico    9\n",
              "20    JPN    NARASAKI       Tomoa    1\n",
              "22    KAZ  KHAIBULLIN      Rishat    3\n",
              "12    KOR         SEO    Chaehyun   13\n",
              "3     POL    MIROSLAW  Aleksandra    4\n",
              "0     SLO    GARNBRET       Janja    1\n",
              "7     SUI    KLINGLER       Petra    8\n",
              "19    UKR   KAZBEKOVA   Ievgeniia   20\n",
              "8     USA    RABOUTOU      Brooke    9"
            ]
          },
          "metadata": {
            "tags": []
          },
          "execution_count": 38
        }
      ]
    },
    {
      "cell_type": "markdown",
      "metadata": {
        "id": "q7tgj48NdO8H",
        "colab_type": "text"
      },
      "source": [
        "This shows the top competitors from each country and their final rank in the overall competition."
      ]
    },
    {
      "cell_type": "markdown",
      "metadata": {
        "id": "zzraCb63YdPX",
        "colab_type": "text"
      },
      "source": [
        "###Note here, the correlation between the qualifing scores and the final rank in competition are not plotted. The data was not clearly stored for this competition, and so is not cleanable."
      ]
    },
    {
      "cell_type": "code",
      "metadata": {
        "id": "Jjp22kckL3EK",
        "colab_type": "code",
        "colab": {}
      },
      "source": [
        "#What country competed in all 3 competitions?\n",
        "IntersectionCountries = pd.merge(TopInGroups['Nation'], TopInGroups1['Nation'], how = \"inner\")"
      ],
      "execution_count": 0,
      "outputs": []
    },
    {
      "cell_type": "code",
      "metadata": {
        "id": "MhNbnY9jQJU6",
        "colab_type": "code",
        "colab": {}
      },
      "source": [
        "IntersectionCountries = pd.merge(IntersectionCountries, TopInGroups2['Nation'], how = 'inner')"
      ],
      "execution_count": 0,
      "outputs": []
    },
    {
      "cell_type": "code",
      "metadata": {
        "id": "LbIDgiq4Qq5b",
        "colab_type": "code",
        "outputId": "f709f3ea-570e-44da-f9d7-4ec814311276",
        "colab": {
          "base_uri": "https://localhost:8080/",
          "height": 80
        }
      },
      "source": [
        "IntersectionCountries"
      ],
      "execution_count": 114,
      "outputs": [
        {
          "output_type": "execute_result",
          "data": {
            "text/html": [
              "<div>\n",
              "<style scoped>\n",
              "    .dataframe tbody tr th:only-of-type {\n",
              "        vertical-align: middle;\n",
              "    }\n",
              "\n",
              "    .dataframe tbody tr th {\n",
              "        vertical-align: top;\n",
              "    }\n",
              "\n",
              "    .dataframe thead th {\n",
              "        text-align: right;\n",
              "    }\n",
              "</style>\n",
              "<table border=\"1\" class=\"dataframe\">\n",
              "  <thead>\n",
              "    <tr style=\"text-align: right;\">\n",
              "      <th></th>\n",
              "      <th>Nation</th>\n",
              "    </tr>\n",
              "  </thead>\n",
              "  <tbody>\n",
              "    <tr>\n",
              "      <th>0</th>\n",
              "      <td>USA</td>\n",
              "    </tr>\n",
              "  </tbody>\n",
              "</table>\n",
              "</div>"
            ],
            "text/plain": [
              "  Nation\n",
              "0    USA"
            ]
          },
          "metadata": {
            "tags": []
          },
          "execution_count": 114
        }
      ]
    },
    {
      "cell_type": "markdown",
      "metadata": {
        "id": "5-ziFQZyY0n_",
        "colab_type": "text"
      },
      "source": [
        "###What Questions Can We Answer?\n",
        "\n",
        "- Overall, the USA appears to send athletes to more competitions.\n",
        "- Even though they send athletes, that doesn't always mean the USA is winning the competitions.\n",
        "- There is a general positive correlation with qualification score and final ranking in the competition."
      ]
    }
  ]
}